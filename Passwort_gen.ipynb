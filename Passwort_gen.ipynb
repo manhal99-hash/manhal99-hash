{
  "nbformat": 4,
  "nbformat_minor": 0,
  "metadata": {
    "colab": {
      "provenance": [],
      "authorship_tag": "ABX9TyPqLrsk0zh/jfHYGQdqZmOh",
      "include_colab_link": true
    },
    "kernelspec": {
      "name": "python3",
      "display_name": "Python 3"
    },
    "language_info": {
      "name": "python"
    }
  },
  "cells": [
    {
      "cell_type": "markdown",
      "metadata": {
        "id": "view-in-github",
        "colab_type": "text"
      },
      "source": [
        "<a href=\"https://colab.research.google.com/github/manhal99-hash/manhal99-hash/blob/main/Passwort_gen.ipynb\" target=\"_parent\"><img src=\"https://colab.research.google.com/assets/colab-badge.svg\" alt=\"Open In Colab\"/></a>"
      ]
    },
    {
      "cell_type": "markdown",
      "source": [
        "Ein kleines einfaches Pythonprogramm um ein Passwort aus Zahlen,Buchstaben und Sonderzeichen zu generieren\n",
        "\n",
        "Merke : Dieses Programm dient für Lernzwecken"
      ],
      "metadata": {
        "id": "xUiCSNaekz4L"
      }
    },
    {
      "cell_type": "code",
      "execution_count": 14,
      "metadata": {
        "colab": {
          "base_uri": "https://localhost:8080/",
          "height": 36
        },
        "id": "1-F37ZpihslO",
        "outputId": "13c3a98e-607e-47aa-f198-6faee953348b"
      },
      "outputs": [
        {
          "output_type": "execute_result",
          "data": {
            "text/plain": [
              "')$(6fQp*=)i7Lwe^Pr9ZTJNiV126JM)G*TpM_OiSqR96gVSq+u$*VmV=t#w85(_xBL2Z&tJuEjGfZV*2FYD3+=bf+Slk7^)eoRtAnGOMcWg7Nip#C-iR8L1r'"
            ],
            "application/vnd.google.colaboratory.intrinsic+json": {
              "type": "string"
            }
          },
          "metadata": {},
          "execution_count": 14
        }
      ],
      "source": [
        "\"\"\"\n",
        "passwort_gen.py\n",
        "Einfacher Passwort Generator in Python\n",
        "\"\"\"\n",
        "\n",
        "import random\n",
        "import string\n",
        "\n",
        "def generate_password(length = 12, use_digits = True, use_special_chars = True):\n",
        "  \"\"\"Erstellt ein zufälliges Passwort\"\"\"\n",
        "  chars = string.ascii_letters # von a bis z und A bis Z\n",
        "  if use_digits:\n",
        "    chars += string.digits # 0-9\n",
        "  if use_special_chars:\n",
        "    chars += \"!@#$^&*()-_=+\"\n",
        "\n",
        "  password = \"\".join(random.choice(chars) for _ in range(length))\n",
        "  return password\n",
        "\n",
        "\n",
        "generate_password(120,True,True)"
      ]
    }
  ]
}